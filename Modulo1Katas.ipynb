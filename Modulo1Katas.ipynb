{
 "cells": [
  {
   "cell_type": "markdown",
   "metadata": {},
   "source": [
    "# Fecha de hoy"
   ]
  },
  {
   "cell_type": "code",
   "execution_count": 1,
   "metadata": {},
   "outputs": [
    {
     "name": "stdout",
     "output_type": "stream",
     "text": [
      "La fecha de hoy es: 2022-02-07\n"
     ]
    }
   ],
   "source": [
    "from datetime import date\n",
    "print(\"La fecha de hoy es: \" + str(date.today()))"
   ]
  },
  {
   "cell_type": "markdown",
   "metadata": {},
   "source": [
    "# Conversión de parsecs a años luz"
   ]
  },
  {
   "cell_type": "code",
   "execution_count": 2,
   "metadata": {},
   "outputs": [
    {
     "name": "stdout",
     "output_type": "stream",
     "text": [
      "Esta es una calculadora de parsecs a años luz\n",
      "La conversión de 20.0 parsecs a años es : 65.2312\n"
     ]
    }
   ],
   "source": [
    "print(\"Esta es una calculadora de parsecs a años luz\")\n",
    "parsec = float(input(\"Introduce los parsecs\"))\n",
    "\n",
    "aniosluz = 3.26156 * parsec\n",
    "\n",
    "print(\"La conversión de \" + str(parsec) + \" parsecs a años es : \" + str(aniosluz))"
   ]
  }
 ],
 "metadata": {
  "interpreter": {
   "hash": "590e9af059f88f182fd84ddf48f7b31962c793e002c27eab4b5e71b793075c5b"
  },
  "kernelspec": {
   "display_name": "Python 3.10.2 64-bit",
   "language": "python",
   "name": "python3"
  },
  "language_info": {
   "codemirror_mode": {
    "name": "ipython",
    "version": 3
   },
   "file_extension": ".py",
   "mimetype": "text/x-python",
   "name": "python",
   "nbconvert_exporter": "python",
   "pygments_lexer": "ipython3",
   "version": "3.10.2"
  },
  "orig_nbformat": 4
 },
 "nbformat": 4,
 "nbformat_minor": 2
}
