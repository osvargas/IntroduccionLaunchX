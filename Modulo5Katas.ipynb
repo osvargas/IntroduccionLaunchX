{
 "cells": [
  {
   "cell_type": "markdown",
   "metadata": {},
   "source": [
    "# Operadores Aritméticos"
   ]
  },
  {
   "cell_type": "markdown",
   "metadata": {},
   "source": [
    "### Ejercicio 1"
   ]
  },
  {
   "cell_type": "code",
   "execution_count": 6,
   "metadata": {},
   "outputs": [
    {
     "name": "stdout",
     "output_type": "stream",
     "text": [
      "La distancia entre la tierra y júpiter es de 628949330 kms y 390577533.93 millas\n"
     ]
    }
   ],
   "source": [
    "tierra = 149597870\n",
    "jupiter = 778547200\n",
    "milla = .621\n",
    "distancia = abs(tierra - jupiter)\n",
    "print(\"La distancia entre la tierra y júpiter es de {0} kms y {1} millas\".format(distancia, distancia*milla))"
   ]
  },
  {
   "cell_type": "markdown",
   "metadata": {},
   "source": [
    "### Ejercicio 2"
   ]
  },
  {
   "cell_type": "code",
   "execution_count": 9,
   "metadata": {},
   "outputs": [
    {
     "name": "stdout",
     "output_type": "stream",
     "text": [
      "La distancia entre el planeta uno y el planeta dos es de 50300000 kms y 31236300.0 millas\n"
     ]
    }
   ],
   "source": [
    "planetaUno = int(input(\"Favor de ingresar la distancia del sol del primer planeta\"))\n",
    "planetaDos = int(input(\"Favor de ingresar la distancia del sol del segundo planeta\"))\n",
    "\n",
    "resultado = abs(planetaUno - planetaDos)\n",
    "\n",
    "print(\"La distancia entre el planeta uno y el planeta dos es de {0} kms y {1} millas\".format(resultado, resultado*milla))"
   ]
  }
 ],
 "metadata": {
  "interpreter": {
   "hash": "590e9af059f88f182fd84ddf48f7b31962c793e002c27eab4b5e71b793075c5b"
  },
  "kernelspec": {
   "display_name": "Python 3.10.2 64-bit",
   "language": "python",
   "name": "python3"
  },
  "language_info": {
   "codemirror_mode": {
    "name": "ipython",
    "version": 3
   },
   "file_extension": ".py",
   "mimetype": "text/x-python",
   "name": "python",
   "nbconvert_exporter": "python",
   "pygments_lexer": "ipython3",
   "version": "3.10.2"
  },
  "orig_nbformat": 4
 },
 "nbformat": 4,
 "nbformat_minor": 2
}
