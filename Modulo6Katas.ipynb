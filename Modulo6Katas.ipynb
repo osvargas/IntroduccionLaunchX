{
 "cells": [
  {
   "cell_type": "markdown",
   "metadata": {},
   "source": [
    "# Listas"
   ]
  },
  {
   "cell_type": "markdown",
   "metadata": {},
   "source": [
    "### Ejercicio 1"
   ]
  },
  {
   "cell_type": "code",
   "execution_count": 3,
   "metadata": {},
   "outputs": [
    {
     "name": "stdout",
     "output_type": "stream",
     "text": [
      "Hay 8 planetas\n",
      "Hay 9 planetas y el último es : Pluton \n"
     ]
    }
   ],
   "source": [
    "planets = [\"Mercurio\", \"Venus\", \"Tierra\", \"Marte\", \"Jupiter\", \"Saturno\", \"Urano\", \"Neptuno\"]\n",
    "\n",
    "cantidadPlanetas = len(planets)\n",
    "\n",
    "print(\"Hay {0} planetas\".format(cantidadPlanetas))\n",
    "\n",
    "planets.append(\"Pluton\")\n",
    "cantidadPlanetas = len(planets)\n",
    "print(\"Hay {0} planetas y el último es : {1} \".format(cantidadPlanetas, planets[-1]))"
   ]
  },
  {
   "cell_type": "markdown",
   "metadata": {},
   "source": [
    "### Ejercicio 2"
   ]
  },
  {
   "cell_type": "code",
   "execution_count": 10,
   "metadata": {},
   "outputs": [
    {
     "name": "stdout",
     "output_type": "stream",
     "text": [
      "El planeta Jupiter está en la posición: 5 del sistema solar\n",
      "Los planetas más cercanos al sol que el planeta Jupiter son : ['Mercurio', 'Venus', 'Tierra', 'Marte']\n",
      "Los planetas más lejanos al sol que el planeta Jupiter son : ['Saturno', 'Urano', 'Neptuno']\n"
     ]
    }
   ],
   "source": [
    "planets = [\"Mercurio\", \"Venus\", \"Tierra\", \"Marte\", \"Jupiter\", \"Saturno\", \"Urano\", \"Neptuno\"]\n",
    "\n",
    "planeta = input(\"Ingresa el nombre de un planeta en español (la primera letra debe ser mayúscula)\")\n",
    "\n",
    "indice = planets.index(planeta)\n",
    "\n",
    "print(\"El planeta {0} está en la posición: {1} del sistema solar\".format(planets[indice],indice + 1))\n",
    "\n",
    "planetasCercanos = planets[0:indice]\n",
    "planetasLejanos = planets[indice+1:]\n",
    "\n",
    "print(\"Los planetas más cercanos al sol que el planeta {0} son : {1}\".format( planets[indice], planetasCercanos) )\n",
    "print(\"Los planetas más lejanos al sol que el planeta {0} son : {1}\".format( planets[indice], planetasLejanos) )"
   ]
  }
 ],
 "metadata": {
  "interpreter": {
   "hash": "590e9af059f88f182fd84ddf48f7b31962c793e002c27eab4b5e71b793075c5b"
  },
  "kernelspec": {
   "display_name": "Python 3.10.2 64-bit",
   "language": "python",
   "name": "python3"
  },
  "language_info": {
   "codemirror_mode": {
    "name": "ipython",
    "version": 3
   },
   "file_extension": ".py",
   "mimetype": "text/x-python",
   "name": "python",
   "nbconvert_exporter": "python",
   "pygments_lexer": "ipython3",
   "version": "3.10.2"
  },
  "orig_nbformat": 4
 },
 "nbformat": 4,
 "nbformat_minor": 2
}
