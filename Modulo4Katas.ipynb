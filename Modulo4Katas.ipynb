{
 "cells": [
  {
   "cell_type": "markdown",
   "metadata": {},
   "source": [
    "# Cadenas"
   ]
  },
  {
   "cell_type": "markdown",
   "metadata": {},
   "source": [
    "### Ejercicio 1: Transformar cadenas"
   ]
  },
  {
   "cell_type": "code",
   "execution_count": 12,
   "metadata": {},
   "outputs": [
    {
     "name": "stdout",
     "output_type": "stream",
     "text": [
      " \n",
      "On average, the Moon moves 4cm away from the Earth every year\n",
      " The highest daylight temperature of the Moon is 127 Celsius\n"
     ]
    }
   ],
   "source": [
    "texto = \"\"\"Interesting facts about the Moon. The Moon is Earth's only satellite. There are several interesting facts about the Moon and how it affects life here on Earth. \n",
    "On average, the Moon moves 4cm away from the Earth every year. This yearly drift is not significant enough to cause immediate effects on Earth. The highest daylight temperature of the Moon is 127 C.\"\"\"\n",
    "#dividir\n",
    "oraciones = texto.split('.')\n",
    "#declarar pistas\n",
    "pistas = [\"average\", \"temperature\", \"distance\"]\n",
    "#buscar pista en oraciones y reemplazar C por Celsius\n",
    "for oracion in oraciones:\n",
    "    for pista in pistas:\n",
    "        if (oracion.find(pista) != -1) :\n",
    "            print(oracion.replace(\" C\", \" Celsius\"))"
   ]
  },
  {
   "cell_type": "markdown",
   "metadata": {},
   "source": [
    "### Ejercicio 2: Formateando Cadenas"
   ]
  },
  {
   "cell_type": "code",
   "execution_count": 25,
   "metadata": {},
   "outputs": [
    {
     "name": "stdout",
     "output_type": "stream",
     "text": [
      "Datos De Gravedad Sobre Moon \n",
      "--------------------------------------------------\n",
      "Nombre del planeta: Earth \n",
      "Gravedad en Moon: 1.6199999999999999\n",
      " \n",
      "\n",
      "Datos De Gravedad Sobre Moon \n",
      "--------------------------------------------------\n",
      "Nombre del planeta: Earth \n",
      "Gravedad en Moon: 1.6199999999999999\n",
      " \n",
      "\n",
      "----------------------------------------------------------------------------------------------------\n",
      "\n",
      " Impresión con nueva plantilla \n",
      "\n",
      "----------------------------------------------------------------------------------------------------\n",
      "\n",
      "Datos de Gravedad sobre: Moon\n",
      "--------------------------------------------------\n",
      "Nombre del planeta: Earth\n",
      "Gravedad en Moon: 1.6199999999999999\n",
      "\n",
      "\n",
      "Datos de Gravedad sobre: Ganímedes\n",
      "--------------------------------------------------\n",
      "Nombre del planeta: Marte \n",
      "Gravedad en Ganímedes: 1.4300000000000002\n",
      "\n"
     ]
    }
   ],
   "source": [
    "name = \"Moon\"\n",
    "gravity = 0.00162 # in kms\n",
    "planet = \"Earth\"\n",
    "\n",
    "#titulo\n",
    "titulo = f'Datos de gravedad sobre {name}'\n",
    "datos = f\"\"\"{'-'*50}\n",
    "Nombre del planeta: {planet} \n",
    "Gravedad en {name}: {gravity * 1000}\n",
    "\"\"\"\n",
    "\n",
    "#union\n",
    "plantilla = f\"\"\"{titulo.title()} \n",
    "{datos} \n",
    "\"\"\" \n",
    "print(plantilla)\n",
    "\n",
    "#nuevos datos\n",
    "name = 'Ganímedes'\n",
    "gravity  = 0.00143\n",
    "planet = 'Marte '\n",
    "\n",
    "print(plantilla)\n",
    "\n",
    "#nueva plantilla\n",
    "print(\"{0}\\n\\n Impresión con nueva plantilla \\n\\n{0}\".format(\"-\"*100))\n",
    "\n",
    "nuevaPlantilla = \"\"\"\n",
    "Datos de Gravedad sobre: {nombre}\n",
    "{lineas}\n",
    "Nombre del planeta: {planeta}\n",
    "Gravedad en {nombre}: {gravedad}\n",
    "\"\"\"\n",
    "\n",
    "name = \"Moon\"\n",
    "gravity = 0.00162 # in kms\n",
    "planet = \"Earth\"\n",
    "\n",
    "print(nuevaPlantilla.format(nombre = name, lineas = \"-\"*50, planeta = planet, gravedad = gravity*1000))\n",
    "\n",
    "name = 'Ganímedes'\n",
    "gravity  = 0.00143\n",
    "planet = 'Marte '\n",
    "\n",
    "print(nuevaPlantilla.format(nombre = name, lineas = \"-\"*50, planeta = planet, gravedad = gravity*1000))"
   ]
  }
 ],
 "metadata": {
  "interpreter": {
   "hash": "590e9af059f88f182fd84ddf48f7b31962c793e002c27eab4b5e71b793075c5b"
  },
  "kernelspec": {
   "display_name": "Python 3.10.2 64-bit",
   "language": "python",
   "name": "python3"
  },
  "language_info": {
   "codemirror_mode": {
    "name": "ipython",
    "version": 3
   },
   "file_extension": ".py",
   "mimetype": "text/x-python",
   "name": "python",
   "nbconvert_exporter": "python",
   "pygments_lexer": "ipython3",
   "version": "3.10.2"
  },
  "orig_nbformat": 4
 },
 "nbformat": 4,
 "nbformat_minor": 2
}
