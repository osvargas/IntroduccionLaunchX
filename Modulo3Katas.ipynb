{
 "cells": [
  {
   "cell_type": "markdown",
   "metadata": {},
   "source": [
    "# Advertencia de asteroides"
   ]
  },
  {
   "cell_type": "code",
   "execution_count": null,
   "metadata": {},
   "outputs": [],
   "source": [
    "velocidadAsteroide = 49\n",
    "\n",
    "if velocidadAsteroide > 25:\n",
    "    print(\"¡¡Se acerca un asteroide!!\")\n",
    "else:\n",
    "    print(\"No pasa nada compa\")"
   ]
  },
  {
   "cell_type": "code",
   "execution_count": 7,
   "metadata": {},
   "outputs": [
    {
     "name": "stdout",
     "output_type": "stream",
     "text": [
      "No pasa nada\n",
      "Nada de nada\n"
     ]
    }
   ],
   "source": [
    "velocidadAsteroide = 18\n",
    "if velocidadAsteroide > 20:\n",
    "    print(\"¡Miren al cielo!\")\n",
    "elif velocidadAsteroide == 20:\n",
    "    print(\"¡Miren al cielo!\")\n",
    "else :\n",
    "    print(\"No pasa nada\")\n",
    "\n",
    "if (velocidadAsteroide >= 20):\n",
    "    print(\"Miren al cielo\")\n",
    "else :\n",
    "    print (\"Nada de nada\")"
   ]
  },
  {
   "cell_type": "code",
   "execution_count": 3,
   "metadata": {},
   "outputs": [
    {
     "name": "stdout",
     "output_type": "stream",
     "text": [
      "¡Miren al cielo!\n"
     ]
    }
   ],
   "source": [
    "velocidadAsteroide = 26\n",
    "tamanioAsteroide = 24\n",
    "\n",
    "if velocidadAsteroide > 25 and tamanioAsteroide > 25 and tamanioAsteroide <= 1000:\n",
    "    print(\"¡Se acerca un asteroide y es enorme!\")\n",
    "elif velocidadAsteroide >= 20 :\n",
    "    print(\"¡Miren al cielo!\")\n",
    "else :\n",
    "    print (\"No pasa nada\")"
   ]
  }
 ],
 "metadata": {
  "interpreter": {
   "hash": "590e9af059f88f182fd84ddf48f7b31962c793e002c27eab4b5e71b793075c5b"
  },
  "kernelspec": {
   "display_name": "Python 3.10.2 64-bit",
   "language": "python",
   "name": "python3"
  },
  "language_info": {
   "codemirror_mode": {
    "name": "ipython",
    "version": 3
   },
   "file_extension": ".py",
   "mimetype": "text/x-python",
   "name": "python",
   "nbconvert_exporter": "python",
   "pygments_lexer": "ipython3",
   "version": "3.10.2"
  },
  "orig_nbformat": 4
 },
 "nbformat": 4,
 "nbformat_minor": 2
}
