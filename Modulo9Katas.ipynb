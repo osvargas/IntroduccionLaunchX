{
 "cells": [
  {
   "cell_type": "markdown",
   "metadata": {},
   "source": [
    "# Funciones"
   ]
  },
  {
   "cell_type": "markdown",
   "metadata": {},
   "source": [
    "### Argumentos en funciones"
   ]
  },
  {
   "cell_type": "code",
   "execution_count": 9,
   "metadata": {},
   "outputs": [
    {
     "name": "stdout",
     "output_type": "stream",
     "text": [
      "\n",
      "        El promedio de combustible es de : 30.0\n",
      "        El tanque 1 contiene : 15,\n",
      "        El tanque2 contiene : 20,\n",
      "        El tanque3 contiene 55\n",
      "    \n"
     ]
    }
   ],
   "source": [
    "def informe (tanque1, tanque2, tanque3):\n",
    "    return f\"\"\"\n",
    "        El promedio de combustible es de : {(tanque1 + tanque2 + tanque3) / 3}\n",
    "        El tanque 1 contiene : {tanque1},\n",
    "        El tanque2 contiene : {tanque2},\n",
    "        El tanque3 contiene {tanque3}\n",
    "    \"\"\"\n",
    "\n",
    "def promedio(*args):\n",
    "    suma = sum(args)\n",
    "    return suma / len(args)\n",
    "\n",
    "\n",
    "def informe2 (tanque1, tanque2, tanque3):\n",
    "    return f\"\"\"\n",
    "        El promedio de combustible es de : {promedio(tanque1 + tanque2 + tanque3) / 3}\n",
    "        El tanque 1 contiene : {tanque1},\n",
    "        El tanque2 contiene : {tanque2},\n",
    "        El tanque3 contiene {tanque3}\n",
    "    \"\"\"   \n",
    "\n",
    "print(informe2(15,20,55))"
   ]
  },
  {
   "cell_type": "markdown",
   "metadata": {},
   "source": [
    "### Ejercicio 2: Argumentos de palabra clave"
   ]
  },
  {
   "cell_type": "code",
   "execution_count": 10,
   "metadata": {},
   "outputs": [
    {
     "name": "stdout",
     "output_type": "stream",
     "text": [
      "\n",
      "        Tiempo de vuelo : 30,\n",
      "        Destino : Cancun,\n",
      "        Combustible interno 10,\n",
      "        Combustible externo 80\n",
      "    \n"
     ]
    }
   ],
   "source": [
    "def informe_preciso(preLanzamiento, tiempoVuelo, destino, tanqueExterno, tanqueInterno):\n",
    "    return f\"\"\"\n",
    "        Tiempo de vuelo : {preLanzamiento + tiempoVuelo},\n",
    "        Destino : {destino},\n",
    "        Combustible interno {tanqueInterno},\n",
    "        Combustible externo {tanqueExterno}\n",
    "    \"\"\"\n",
    "\n",
    "\n",
    "print(informe_preciso(10,20,'Cancun', 80, 10))\n"
   ]
  },
  {
   "cell_type": "code",
   "execution_count": 13,
   "metadata": {},
   "outputs": [
    {
     "name": "stdout",
     "output_type": "stream",
     "text": [
      "\n",
      "        Destino: Cancun,\n",
      "        Tiempo de vuelo : 721,\n",
      "        Combustible total : 504800\n",
      "    Tanque : primario Cantidad: 300450 \n",
      "Tanque : reserva Cantidad: 204350 \n",
      "\n"
     ]
    }
   ],
   "source": [
    "def informe_preciso2(destino, *minutos, **combustibles):\n",
    "    reporte = f\"\"\"\n",
    "        Destino: {destino},\n",
    "        Tiempo de vuelo : {sum(minutos)},\n",
    "        Combustible total : {sum(combustibles.values())}\n",
    "    \"\"\"\n",
    "\n",
    "    for nombre, cantidad in combustibles.items():\n",
    "        reporte += f\"Tanque : {nombre} Cantidad: {cantidad} \\n\"\n",
    "    return reporte\n",
    "\n",
    "\n",
    "print(informe_preciso2(\"Cancun\", 85, 111, 525, primario=300450, reserva=204350))\n"
   ]
  }
 ],
 "metadata": {
  "interpreter": {
   "hash": "590e9af059f88f182fd84ddf48f7b31962c793e002c27eab4b5e71b793075c5b"
  },
  "kernelspec": {
   "display_name": "Python 3.10.2 64-bit",
   "language": "python",
   "name": "python3"
  },
  "language_info": {
   "codemirror_mode": {
    "name": "ipython",
    "version": 3
   },
   "file_extension": ".py",
   "mimetype": "text/x-python",
   "name": "python",
   "nbconvert_exporter": "python",
   "pygments_lexer": "ipython3",
   "version": "3.10.2"
  },
  "orig_nbformat": 4
 },
 "nbformat": 4,
 "nbformat_minor": 2
}
